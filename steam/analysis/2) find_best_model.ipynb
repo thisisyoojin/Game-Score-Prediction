{
 "cells": [
  {
   "cell_type": "code",
   "execution_count": 1,
   "source": [
    "from time import perf_counter\n",
    "import sys, os\n",
    "sys.path.insert(0, os.path.abspath('..'))\n",
    "import warnings\n",
    "warnings.filterwarnings('ignore')\n",
    "\n",
    "from preprocess import prepare_dataset\n",
    "from validation.models import RidgeCV, LassoCV, KnnCV, SvrCV, RandomForestCV, ExtraTreeCV\n",
    "from validation import set_baseline, get_best_models, plot_train_val, find_winner\n",
    "\n",
    "X_train, X_val, y_train, y_val = prepare_dataset(kind='cv')"
   ],
   "outputs": [],
   "metadata": {}
  },
  {
   "cell_type": "code",
   "execution_count": 2,
   "source": [
    "baseline = set_baseline(X_train, X_val, y_train, y_val)"
   ],
   "outputs": [
    {
     "output_type": "stream",
     "name": "stdout",
     "text": [
      "Baseline loss: 2159445.526444445\n",
      "Baseline score: 0.4124612701450111\n"
     ]
    }
   ],
   "metadata": {}
  },
  {
   "cell_type": "code",
   "execution_count": 3,
   "source": [
    "models = [RidgeCV, LassoCV, KnnCV, SvrCV, RandomForestCV, ExtraTreeCV]\n",
    "results = get_best_models(models, X_train, X_val, y_train, y_val)"
   ],
   "outputs": [
    {
     "output_type": "stream",
     "name": "stdout",
     "text": [
      "Start training Ridge with {'alpha': 0.1}\n",
      "Start training Ridge with {'alpha': 0.5}\n",
      "Start training Ridge with {'alpha': 1.0}\n",
      "Start training Ridge with {'alpha': 10.0}\n",
      "Start training Ridge with {'alpha': 20.0}\n",
      "Start training Lasso with {'alpha': 0.1}\n",
      "Start training Lasso with {'alpha': 0.5}\n",
      "Start training Lasso with {'alpha': 1.0}\n",
      "Start training Lasso with {'alpha': 10.0}\n",
      "Start training Lasso with {'alpha': 20.0}\n",
      "Start training KNN with {'n_neighbors': 5}\n",
      "Start training KNN with {'n_neighbors': 6}\n",
      "Start training KNN with {'n_neighbors': 7}\n",
      "Start training KNN with {'n_neighbors': 8}\n",
      "Start training KNN with {'n_neighbors': 9}\n",
      "Start training KNN with {'n_neighbors': 10}\n",
      "Start training SVR with {'gamma': 0.001, 'C': 0.001}\n",
      "Start training SVR with {'gamma': 0.001, 'C': 0.01}\n",
      "Start training SVR with {'gamma': 0.001, 'C': 0.1}\n",
      "Start training SVR with {'gamma': 0.001, 'C': 1.0}\n",
      "Start training SVR with {'gamma': 0.001, 'C': 10.0}\n",
      "Start training SVR with {'gamma': 0.001, 'C': 100.0}\n",
      "Start training SVR with {'gamma': 0.01, 'C': 0.001}\n",
      "Start training SVR with {'gamma': 0.01, 'C': 0.01}\n",
      "Start training SVR with {'gamma': 0.01, 'C': 0.1}\n",
      "Start training SVR with {'gamma': 0.01, 'C': 1.0}\n",
      "Start training SVR with {'gamma': 0.01, 'C': 10.0}\n",
      "Start training SVR with {'gamma': 0.01, 'C': 100.0}\n",
      "Start training SVR with {'gamma': 0.1, 'C': 0.001}\n",
      "Start training SVR with {'gamma': 0.1, 'C': 0.01}\n",
      "Start training SVR with {'gamma': 0.1, 'C': 0.1}\n",
      "Start training SVR with {'gamma': 0.1, 'C': 1.0}\n",
      "Start training SVR with {'gamma': 0.1, 'C': 10.0}\n",
      "Start training SVR with {'gamma': 0.1, 'C': 100.0}\n",
      "Start training SVR with {'gamma': 1.0, 'C': 0.001}\n",
      "Start training SVR with {'gamma': 1.0, 'C': 0.01}\n",
      "Start training SVR with {'gamma': 1.0, 'C': 0.1}\n",
      "Start training SVR with {'gamma': 1.0, 'C': 1.0}\n",
      "Start training SVR with {'gamma': 1.0, 'C': 10.0}\n",
      "Start training SVR with {'gamma': 1.0, 'C': 100.0}\n",
      "Start training SVR with {'gamma': 10.0, 'C': 0.001}\n",
      "Start training SVR with {'gamma': 10.0, 'C': 0.01}\n",
      "Start training SVR with {'gamma': 10.0, 'C': 0.1}\n",
      "Start training SVR with {'gamma': 10.0, 'C': 1.0}\n",
      "Start training SVR with {'gamma': 10.0, 'C': 10.0}\n",
      "Start training SVR with {'gamma': 10.0, 'C': 100.0}\n",
      "Start training SVR with {'gamma': 100.0, 'C': 0.001}\n",
      "Start training SVR with {'gamma': 100.0, 'C': 0.01}\n",
      "Start training SVR with {'gamma': 100.0, 'C': 0.1}\n",
      "Start training SVR with {'gamma': 100.0, 'C': 1.0}\n",
      "Start training SVR with {'gamma': 100.0, 'C': 10.0}\n",
      "Start training SVR with {'gamma': 100.0, 'C': 100.0}\n",
      "Start training Random Forest with {'n_estimators': 10, 'max_depth': 10}\n",
      "Start training Random Forest with {'n_estimators': 10, 'max_depth': 20}\n",
      "Start training Random Forest with {'n_estimators': 10, 'max_depth': 30}\n",
      "Start training Random Forest with {'n_estimators': 20, 'max_depth': 10}\n",
      "Start training Random Forest with {'n_estimators': 20, 'max_depth': 20}\n",
      "Start training Random Forest with {'n_estimators': 20, 'max_depth': 30}\n",
      "Start training Random Forest with {'n_estimators': 30, 'max_depth': 10}\n",
      "Start training Random Forest with {'n_estimators': 30, 'max_depth': 20}\n",
      "Start training Random Forest with {'n_estimators': 30, 'max_depth': 30}\n"
     ]
    },
    {
     "output_type": "error",
     "ename": "AttributeError",
     "evalue": "'ExtraTreesRegressor' object has no attribute 'best_model'",
     "traceback": [
      "\u001b[0;31m---------------------------------------------------------------------------\u001b[0m",
      "\u001b[0;31mAttributeError\u001b[0m                            Traceback (most recent call last)",
      "\u001b[0;32m<ipython-input-3-9c62c767f762>\u001b[0m in \u001b[0;36m<module>\u001b[0;34m\u001b[0m\n\u001b[1;32m      1\u001b[0m \u001b[0mmodels\u001b[0m \u001b[0;34m=\u001b[0m \u001b[0;34m[\u001b[0m\u001b[0mRidgeCV\u001b[0m\u001b[0;34m,\u001b[0m \u001b[0mLassoCV\u001b[0m\u001b[0;34m,\u001b[0m \u001b[0mKnnCV\u001b[0m\u001b[0;34m,\u001b[0m \u001b[0mSvrCV\u001b[0m\u001b[0;34m,\u001b[0m \u001b[0mRandomForestCV\u001b[0m\u001b[0;34m,\u001b[0m \u001b[0mExtraTreesRegressor\u001b[0m\u001b[0;34m]\u001b[0m\u001b[0;34m\u001b[0m\u001b[0;34m\u001b[0m\u001b[0m\n\u001b[0;32m----> 2\u001b[0;31m \u001b[0mresults\u001b[0m \u001b[0;34m=\u001b[0m \u001b[0mget_best_models\u001b[0m\u001b[0;34m(\u001b[0m\u001b[0mmodels\u001b[0m\u001b[0;34m,\u001b[0m \u001b[0mX_train\u001b[0m\u001b[0;34m,\u001b[0m \u001b[0mX_val\u001b[0m\u001b[0;34m,\u001b[0m \u001b[0my_train\u001b[0m\u001b[0;34m,\u001b[0m \u001b[0my_val\u001b[0m\u001b[0;34m)\u001b[0m\u001b[0;34m\u001b[0m\u001b[0;34m\u001b[0m\u001b[0m\n\u001b[0m",
      "\u001b[0;32m~/Projects/steam-git/steam/validation/best_model.py\u001b[0m in \u001b[0;36mget_best_models\u001b[0;34m(models, X_train, X_val, y_train, y_val)\u001b[0m\n\u001b[1;32m     24\u001b[0m     \u001b[0;32mfor\u001b[0m \u001b[0mmodel\u001b[0m \u001b[0;32min\u001b[0m \u001b[0mmodels\u001b[0m\u001b[0;34m:\u001b[0m\u001b[0;34m\u001b[0m\u001b[0;34m\u001b[0m\u001b[0m\n\u001b[1;32m     25\u001b[0m         \u001b[0mreg\u001b[0m \u001b[0;34m=\u001b[0m \u001b[0mmodel\u001b[0m\u001b[0;34m(\u001b[0m\u001b[0mX_train\u001b[0m\u001b[0;34m,\u001b[0m \u001b[0mX_val\u001b[0m\u001b[0;34m,\u001b[0m \u001b[0my_train\u001b[0m\u001b[0;34m,\u001b[0m \u001b[0my_val\u001b[0m\u001b[0;34m)\u001b[0m\u001b[0;34m\u001b[0m\u001b[0;34m\u001b[0m\u001b[0m\n\u001b[0;32m---> 26\u001b[0;31m         \u001b[0mbest_model\u001b[0m\u001b[0;34m,\u001b[0m \u001b[0minfo\u001b[0m \u001b[0;34m=\u001b[0m \u001b[0mreg\u001b[0m\u001b[0;34m.\u001b[0m\u001b[0mbest_model\u001b[0m\u001b[0;34m(\u001b[0m\u001b[0;34m)\u001b[0m\u001b[0;34m\u001b[0m\u001b[0;34m\u001b[0m\u001b[0m\n\u001b[0m\u001b[1;32m     27\u001b[0m         best = {\n\u001b[1;32m     28\u001b[0m             \u001b[0;34m\"model_name\"\u001b[0m\u001b[0;34m:\u001b[0m \u001b[0minfo\u001b[0m\u001b[0;34m[\u001b[0m\u001b[0;34m'model_name'\u001b[0m\u001b[0;34m]\u001b[0m\u001b[0;34m,\u001b[0m\u001b[0;34m\u001b[0m\u001b[0;34m\u001b[0m\u001b[0m\n",
      "\u001b[0;31mAttributeError\u001b[0m: 'ExtraTreesRegressor' object has no attribute 'best_model'"
     ]
    }
   ],
   "metadata": {}
  },
  {
   "cell_type": "code",
   "execution_count": null,
   "source": [
    "plot_train_val(results, type='loss', label='Loss(MSE)')"
   ],
   "outputs": [
    {
     "output_type": "display_data",
     "data": {
      "text/plain": [
       "<Figure size 432x288 with 1 Axes>"
      ],
      "image/png": "[encoded data removed]"
     },
     "metadata": {
      "needs_background": "light"
     }
    }
   ],
   "metadata": {}
  },
  {
   "cell_type": "code",
   "execution_count": null,
   "source": [
    "X_train, X_test, y_train, y_test = prepare_dataset(kind='train')"
   ],
   "outputs": [
    {
     "output_type": "stream",
     "name": "stderr",
     "text": [
      "/home/yoojin/miniconda3/lib/python3.9/site-packages/pandas/core/series.py:4463: SettingWithCopyWarning: \n",
      "A value is trying to be set on a copy of a slice from a DataFrame\n",
      "\n",
      "See the caveats in the documentation: https://pandas.pydata.org/pandas-docs/stable/user_guide/indexing.html#returning-a-view-versus-a-copy\n",
      "  return super().fillna(\n",
      "/home/yoojin/miniconda3/lib/python3.9/site-packages/pandas/core/indexing.py:1676: SettingWithCopyWarning: \n",
      "A value is trying to be set on a copy of a slice from a DataFrame.\n",
      "Try using .loc[row_indexer,col_indexer] = value instead\n",
      "\n",
      "See the caveats in the documentation: https://pandas.pydata.org/pandas-docs/stable/user_guide/indexing.html#returning-a-view-versus-a-copy\n",
      "  self._setitem_single_column(ilocs[0], value, pi)\n",
      "/home/yoojin/miniconda3/lib/python3.9/site-packages/pandas/core/indexing.py:1597: SettingWithCopyWarning: \n",
      "A value is trying to be set on a copy of a slice from a DataFrame.\n",
      "Try using .loc[row_indexer,col_indexer] = value instead\n",
      "\n",
      "See the caveats in the documentation: https://pandas.pydata.org/pandas-docs/stable/user_guide/indexing.html#returning-a-view-versus-a-copy\n",
      "  self.obj[key] = value\n",
      "/home/yoojin/Projects/steam-git/steam/preprocess/preprocess.py:110: SettingWithCopyWarning: \n",
      "A value is trying to be set on a copy of a slice from a DataFrame.\n",
      "Try using .loc[row_indexer,col_indexer] = value instead\n",
      "\n",
      "See the caveats in the documentation: https://pandas.pydata.org/pandas-docs/stable/user_guide/indexing.html#returning-a-view-versus-a-copy\n",
      "  X['Year'] = pd.DatetimeIndex(X['Release_Date']).year\n",
      "/home/yoojin/Projects/steam-git/steam/preprocess/preprocess.py:111: SettingWithCopyWarning: \n",
      "A value is trying to be set on a copy of a slice from a DataFrame.\n",
      "Try using .loc[row_indexer,col_indexer] = value instead\n",
      "\n",
      "See the caveats in the documentation: https://pandas.pydata.org/pandas-docs/stable/user_guide/indexing.html#returning-a-view-versus-a-copy\n",
      "  X['Year'] = X['Year'] - X['Year'].min()\n",
      "/home/yoojin/Projects/steam-git/steam/preprocess/preprocess.py:113: SettingWithCopyWarning: \n",
      "A value is trying to be set on a copy of a slice from a DataFrame.\n",
      "Try using .loc[row_indexer,col_indexer] = value instead\n",
      "\n",
      "See the caveats in the documentation: https://pandas.pydata.org/pandas-docs/stable/user_guide/indexing.html#returning-a-view-versus-a-copy\n",
      "  X['Month'] = pd.DatetimeIndex(X['Release_Date']).month\n",
      "/home/yoojin/Projects/steam-git/steam/preprocess/preprocess.py:114: SettingWithCopyWarning: \n",
      "A value is trying to be set on a copy of a slice from a DataFrame.\n",
      "Try using .loc[row_indexer,col_indexer] = value instead\n",
      "\n",
      "See the caveats in the documentation: https://pandas.pydata.org/pandas-docs/stable/user_guide/indexing.html#returning-a-view-versus-a-copy\n",
      "  X['Day'] = pd.DatetimeIndex(X['Release_Date']).day\n",
      "/home/yoojin/Projects/steam-git/steam/preprocess/preprocess.py:116: SettingWithCopyWarning: \n",
      "A value is trying to be set on a copy of a slice from a DataFrame.\n",
      "Try using .loc[row_indexer,col_indexer] = value instead\n",
      "\n",
      "See the caveats in the documentation: https://pandas.pydata.org/pandas-docs/stable/user_guide/indexing.html#returning-a-view-versus-a-copy\n",
      "  X['Weekend'] = pd.DatetimeIndex(X['Release_Date']).weekday > 4\n",
      "/home/yoojin/miniconda3/lib/python3.9/site-packages/pandas/core/indexing.py:1676: SettingWithCopyWarning: \n",
      "A value is trying to be set on a copy of a slice from a DataFrame.\n",
      "Try using .loc[row_indexer,col_indexer] = value instead\n",
      "\n",
      "See the caveats in the documentation: https://pandas.pydata.org/pandas-docs/stable/user_guide/indexing.html#returning-a-view-versus-a-copy\n",
      "  self._setitem_single_column(ilocs[0], value, pi)\n",
      "/home/yoojin/miniconda3/lib/python3.9/site-packages/pandas/core/series.py:4463: SettingWithCopyWarning: \n",
      "A value is trying to be set on a copy of a slice from a DataFrame\n",
      "\n",
      "See the caveats in the documentation: https://pandas.pydata.org/pandas-docs/stable/user_guide/indexing.html#returning-a-view-versus-a-copy\n",
      "  return super().fillna(\n",
      "/home/yoojin/miniconda3/lib/python3.9/site-packages/pandas/core/indexing.py:1597: SettingWithCopyWarning: \n",
      "A value is trying to be set on a copy of a slice from a DataFrame.\n",
      "Try using .loc[row_indexer,col_indexer] = value instead\n",
      "\n",
      "See the caveats in the documentation: https://pandas.pydata.org/pandas-docs/stable/user_guide/indexing.html#returning-a-view-versus-a-copy\n",
      "  self.obj[key] = value\n",
      "/home/yoojin/Projects/steam-git/steam/preprocess/preprocess.py:110: SettingWithCopyWarning: \n",
      "A value is trying to be set on a copy of a slice from a DataFrame.\n",
      "Try using .loc[row_indexer,col_indexer] = value instead\n",
      "\n",
      "See the caveats in the documentation: https://pandas.pydata.org/pandas-docs/stable/user_guide/indexing.html#returning-a-view-versus-a-copy\n",
      "  X['Year'] = pd.DatetimeIndex(X['Release_Date']).year\n",
      "/home/yoojin/Projects/steam-git/steam/preprocess/preprocess.py:111: SettingWithCopyWarning: \n",
      "A value is trying to be set on a copy of a slice from a DataFrame.\n",
      "Try using .loc[row_indexer,col_indexer] = value instead\n",
      "\n",
      "See the caveats in the documentation: https://pandas.pydata.org/pandas-docs/stable/user_guide/indexing.html#returning-a-view-versus-a-copy\n",
      "  X['Year'] = X['Year'] - X['Year'].min()\n",
      "/home/yoojin/Projects/steam-git/steam/preprocess/preprocess.py:113: SettingWithCopyWarning: \n",
      "A value is trying to be set on a copy of a slice from a DataFrame.\n",
      "Try using .loc[row_indexer,col_indexer] = value instead\n",
      "\n",
      "See the caveats in the documentation: https://pandas.pydata.org/pandas-docs/stable/user_guide/indexing.html#returning-a-view-versus-a-copy\n",
      "  X['Month'] = pd.DatetimeIndex(X['Release_Date']).month\n",
      "/home/yoojin/Projects/steam-git/steam/preprocess/preprocess.py:114: SettingWithCopyWarning: \n",
      "A value is trying to be set on a copy of a slice from a DataFrame.\n",
      "Try using .loc[row_indexer,col_indexer] = value instead\n",
      "\n",
      "See the caveats in the documentation: https://pandas.pydata.org/pandas-docs/stable/user_guide/indexing.html#returning-a-view-versus-a-copy\n",
      "  X['Day'] = pd.DatetimeIndex(X['Release_Date']).day\n",
      "/home/yoojin/Projects/steam-git/steam/preprocess/preprocess.py:116: SettingWithCopyWarning: \n",
      "A value is trying to be set on a copy of a slice from a DataFrame.\n",
      "Try using .loc[row_indexer,col_indexer] = value instead\n",
      "\n",
      "See the caveats in the documentation: https://pandas.pydata.org/pandas-docs/stable/user_guide/indexing.html#returning-a-view-versus-a-copy\n",
      "  X['Weekend'] = pd.DatetimeIndex(X['Release_Date']).weekday > 4\n",
      "/home/yoojin/miniconda3/lib/python3.9/site-packages/pandas/core/indexing.py:1676: SettingWithCopyWarning: \n",
      "A value is trying to be set on a copy of a slice from a DataFrame.\n",
      "Try using .loc[row_indexer,col_indexer] = value instead\n",
      "\n",
      "See the caveats in the documentation: https://pandas.pydata.org/pandas-docs/stable/user_guide/indexing.html#returning-a-view-versus-a-copy\n",
      "  self._setitem_single_column(ilocs[0], value, pi)\n"
     ]
    },
    {
     "output_type": "error",
     "ename": "TypeError",
     "evalue": "list indices must be integers or slices, not str",
     "traceback": [
      "\u001b[0;31m---------------------------------------------------------------------------\u001b[0m",
      "\u001b[0;31mTypeError\u001b[0m                                 Traceback (most recent call last)",
      "\u001b[0;32m<ipython-input-9-68a9e950a66e>\u001b[0m in \u001b[0;36m<module>\u001b[0;34m\u001b[0m\n\u001b[1;32m      1\u001b[0m \u001b[0mX_train\u001b[0m\u001b[0;34m,\u001b[0m \u001b[0mX_test\u001b[0m\u001b[0;34m,\u001b[0m \u001b[0my_train\u001b[0m\u001b[0;34m,\u001b[0m \u001b[0my_test\u001b[0m \u001b[0;34m=\u001b[0m \u001b[0mprepare_dataset\u001b[0m\u001b[0;34m(\u001b[0m\u001b[0mkind\u001b[0m\u001b[0;34m=\u001b[0m\u001b[0;34m'train'\u001b[0m\u001b[0;34m)\u001b[0m\u001b[0;34m\u001b[0m\u001b[0;34m\u001b[0m\u001b[0m\n\u001b[1;32m      2\u001b[0m \u001b[0;34m\u001b[0m\u001b[0m\n\u001b[0;32m----> 3\u001b[0;31m \u001b[0mwinner_model\u001b[0m \u001b[0;34m=\u001b[0m \u001b[0msorted\u001b[0m\u001b[0;34m(\u001b[0m\u001b[0mresults\u001b[0m\u001b[0;34m,\u001b[0m \u001b[0mkey\u001b[0m\u001b[0;34m=\u001b[0m\u001b[0;32mlambda\u001b[0m \u001b[0mx\u001b[0m\u001b[0;34m:\u001b[0m \u001b[0mx\u001b[0m\u001b[0;34m[\u001b[0m\u001b[0;34m'val_score'\u001b[0m\u001b[0;34m]\u001b[0m\u001b[0;34m,\u001b[0m \u001b[0mreverse\u001b[0m\u001b[0;34m=\u001b[0m\u001b[0;32mTrue\u001b[0m\u001b[0;34m)\u001b[0m\u001b[0;34m[\u001b[0m\u001b[0;34m'best_model'\u001b[0m\u001b[0;34m]\u001b[0m\u001b[0;34m\u001b[0m\u001b[0;34m\u001b[0m\u001b[0m\n\u001b[0m\u001b[1;32m      4\u001b[0m \u001b[0mwinner_model\u001b[0m\u001b[0;34m.\u001b[0m\u001b[0mfit\u001b[0m\u001b[0;34m(\u001b[0m\u001b[0mX_train\u001b[0m\u001b[0;34m,\u001b[0m \u001b[0my_train\u001b[0m\u001b[0;34m)\u001b[0m\u001b[0;34m\u001b[0m\u001b[0;34m\u001b[0m\u001b[0m\n\u001b[1;32m      5\u001b[0m \u001b[0mprint\u001b[0m\u001b[0;34m(\u001b[0m\u001b[0mwinner_model\u001b[0m\u001b[0;34m.\u001b[0m\u001b[0mscore\u001b[0m\u001b[0;34m(\u001b[0m\u001b[0mX_test\u001b[0m\u001b[0;34m,\u001b[0m \u001b[0my_test\u001b[0m\u001b[0;34m)\u001b[0m\u001b[0;34m)\u001b[0m\u001b[0;34m\u001b[0m\u001b[0;34m\u001b[0m\u001b[0m\n",
      "\u001b[0;31mTypeError\u001b[0m: list indices must be integers or slices, not str"
     ]
    }
   ],
   "metadata": {}
  },
  {
   "cell_type": "code",
   "execution_count": null,
   "source": [
    "winner_model = sorted(results, key=lambda x: x['val_score'], reverse=True)[0]['best_model']\n",
    "winner_model.fit(X_train, y_train)\n",
    "print(winner_model.score(X_test, y_test))"
   ],
   "outputs": [
    {
     "output_type": "stream",
     "name": "stdout",
     "text": [
      "0.5803249555094327\n"
     ]
    }
   ],
   "metadata": {}
  },
  {
   "cell_type": "code",
   "execution_count": null,
   "source": [],
   "outputs": [],
   "metadata": {}
  }
 ],
 "metadata": {
  "orig_nbformat": 4,
  "language_info": {
   "name": "python",
   "version": "3.9.1",
   "mimetype": "text/x-python",
   "codemirror_mode": {
    "name": "ipython",
    "version": 3
   },
   "pygments_lexer": "ipython3",
   "nbconvert_exporter": "python",
   "file_extension": ".py"
  },
  "kernelspec": {
   "name": "python3",
   "display_name": "Python 3.9.1 64-bit ('base': conda)"
  },
  "interpreter": {
   "hash": "8ef4e8786d438b06bc68a3ef7740fb70b28ec89378dbf9e0c58c4712274c6905"
  }
 },
 "nbformat": 4,
 "nbformat_minor": 2
}
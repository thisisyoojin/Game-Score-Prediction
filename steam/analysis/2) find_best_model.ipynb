{
 "cells": [
  {
   "cell_type": "code",
   "execution_count": 1,
   "source": [
    "from time import perf_counter\n",
    "import sys, os\n",
    "sys.path.insert(0, os.path.abspath('..'))\n",
    "import warnings\n",
    "warnings.filterwarnings('ignore')\n",
    "\n",
    "from preprocess import prepare_dataset\n",
    "from validation.models import RidgeCV, LassoCV, KnnCV, SvrCV, RandomForestCV, ExtraTreeCV\n",
    "from validation import set_baseline, get_best_models, plot_train_val\n",
    "\n",
    "X_train, X_val, y_train, y_val = prepare_dataset(kind='cv')"
   ],
   "outputs": [
    {
     "output_type": "error",
     "ename": "ImportError",
     "evalue": "cannot import name 'find_winner' from 'validation.best_model' (/home/yoojin/Projects/steam-git/steam/validation/best_model.py)",
     "traceback": [
      "\u001b[0;31m---------------------------------------------------------------------------\u001b[0m",
      "\u001b[0;31mImportError\u001b[0m                               Traceback (most recent call last)",
      "\u001b[0;32m<ipython-input-1-48fa1888bbd4>\u001b[0m in \u001b[0;36m<module>\u001b[0;34m\u001b[0m\n\u001b[1;32m      6\u001b[0m \u001b[0;34m\u001b[0m\u001b[0m\n\u001b[1;32m      7\u001b[0m \u001b[0;32mfrom\u001b[0m \u001b[0mpreprocess\u001b[0m \u001b[0;32mimport\u001b[0m \u001b[0mprepare_dataset\u001b[0m\u001b[0;34m\u001b[0m\u001b[0;34m\u001b[0m\u001b[0m\n\u001b[0;32m----> 8\u001b[0;31m \u001b[0;32mfrom\u001b[0m \u001b[0mvalidation\u001b[0m\u001b[0;34m.\u001b[0m\u001b[0mmodels\u001b[0m \u001b[0;32mimport\u001b[0m \u001b[0mRidgeCV\u001b[0m\u001b[0;34m,\u001b[0m \u001b[0mLassoCV\u001b[0m\u001b[0;34m,\u001b[0m \u001b[0mKnnCV\u001b[0m\u001b[0;34m,\u001b[0m \u001b[0mSvrCV\u001b[0m\u001b[0;34m,\u001b[0m \u001b[0mRandomForestCV\u001b[0m\u001b[0;34m,\u001b[0m \u001b[0mExtraTreeCV\u001b[0m\u001b[0;34m\u001b[0m\u001b[0;34m\u001b[0m\u001b[0m\n\u001b[0m\u001b[1;32m      9\u001b[0m \u001b[0;32mfrom\u001b[0m \u001b[0mvalidation\u001b[0m \u001b[0;32mimport\u001b[0m \u001b[0mset_baseline\u001b[0m\u001b[0;34m,\u001b[0m \u001b[0mget_best_models\u001b[0m\u001b[0;34m,\u001b[0m \u001b[0mplot_train_val\u001b[0m\u001b[0;34m,\u001b[0m \u001b[0mfind_winner\u001b[0m\u001b[0;34m\u001b[0m\u001b[0;34m\u001b[0m\u001b[0m\n\u001b[1;32m     10\u001b[0m \u001b[0;34m\u001b[0m\u001b[0m\n",
      "\u001b[0;32m~/Projects/steam-git/steam/validation/__init__.py\u001b[0m in \u001b[0;36m<module>\u001b[0;34m\u001b[0m\n\u001b[1;32m      1\u001b[0m \u001b[0;32mfrom\u001b[0m \u001b[0;34m.\u001b[0m\u001b[0mbase\u001b[0m \u001b[0;32mimport\u001b[0m \u001b[0mBase\u001b[0m\u001b[0;34m\u001b[0m\u001b[0;34m\u001b[0m\u001b[0m\n\u001b[1;32m      2\u001b[0m \u001b[0;32mfrom\u001b[0m \u001b[0;34m.\u001b[0m\u001b[0mmodels\u001b[0m \u001b[0;32mimport\u001b[0m \u001b[0mRidgeCV\u001b[0m\u001b[0;34m,\u001b[0m \u001b[0mLassoCV\u001b[0m\u001b[0;34m,\u001b[0m \u001b[0mKnnCV\u001b[0m\u001b[0;34m,\u001b[0m \u001b[0mSvrCV\u001b[0m\u001b[0;34m,\u001b[0m \u001b[0mRandomForestCV\u001b[0m\u001b[0;34m,\u001b[0m \u001b[0mExtraTreesRegressor\u001b[0m\u001b[0;34m\u001b[0m\u001b[0;34m\u001b[0m\u001b[0m\n\u001b[0;32m----> 3\u001b[0;31m \u001b[0;32mfrom\u001b[0m \u001b[0;34m.\u001b[0m\u001b[0mbest_model\u001b[0m \u001b[0;32mimport\u001b[0m \u001b[0mset_baseline\u001b[0m\u001b[0;34m,\u001b[0m \u001b[0mget_best_models\u001b[0m\u001b[0;34m,\u001b[0m \u001b[0mplot_train_val\u001b[0m\u001b[0;34m,\u001b[0m \u001b[0mfind_winner\u001b[0m\u001b[0;34m\u001b[0m\u001b[0;34m\u001b[0m\u001b[0m\n\u001b[0m",
      "\u001b[0;31mImportError\u001b[0m: cannot import name 'find_winner' from 'validation.best_model' (/home/yoojin/Projects/steam-git/steam/validation/best_model.py)"
     ]
    }
   ],
   "metadata": {}
  },
  {
   "cell_type": "code",
   "execution_count": null,
   "source": [
    "baseline = set_baseline(X_train, X_val, y_train, y_val)"
   ],
   "outputs": [],
   "metadata": {}
  },
  {
   "cell_type": "code",
   "execution_count": null,
   "source": [
    "from validation.models import RidgeCV, LassoCV, KnnCV, SvrCV, RandomForestCV, ExtraTreeCV\n",
    "models = [RidgeCV, LassoCV, KnnCV, SvrCV, RandomForestCV, ExtraTreeCV]\n",
    "results = get_best_models(models, X_train, X_val, y_train, y_val)"
   ],
   "outputs": [],
   "metadata": {}
  },
  {
   "cell_type": "code",
   "execution_count": null,
   "source": [
    "plot_train_val(results, type='loss', label='Loss(MSE)')"
   ],
   "outputs": [],
   "metadata": {}
  },
  {
   "cell_type": "code",
   "execution_count": null,
   "source": [
    "winner_model = sorted(results, key=lambda x: x['val_score'], reverse=True)[0]['best_model']\n",
    "\n",
    "X_train, X_test, y_train, y_test = prepare_dataset(kind='train')\n",
    "winner_model.fit(X_train, y_train)\n",
    "print(winner_model.score(X_test, y_test))"
   ],
   "outputs": [],
   "metadata": {}
  },
  {
   "cell_type": "code",
   "execution_count": null,
   "source": [
    "import numpy as np\n",
    "float_formatter = \"{:.10f}\".format\n",
    "np.set_printoptions(formatter={'float_kind':float_formatter})\n",
    "\n",
    "sorted(zip(X_train.columns, winner_model.feature_importances_), key=lambda x: x[1], reverse=True)[:5]"
   ],
   "outputs": [],
   "metadata": {}
  }
 ],
 "metadata": {
  "orig_nbformat": 4,
  "language_info": {
   "name": "python",
   "version": "3.9.1",
   "mimetype": "text/x-python",
   "codemirror_mode": {
    "name": "ipython",
    "version": 3
   },
   "pygments_lexer": "ipython3",
   "nbconvert_exporter": "python",
   "file_extension": ".py"
  },
  "kernelspec": {
   "name": "python3",
   "display_name": "Python 3.9.1 64-bit ('base': conda)"
  },
  "interpreter": {
   "hash": "8ef4e8786d438b06bc68a3ef7740fb70b28ec89378dbf9e0c58c4712274c6905"
  }
 },
 "nbformat": 4,
 "nbformat_minor": 2
}
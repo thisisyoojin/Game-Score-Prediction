{
 "cells": [
  {
   "cell_type": "code",
   "execution_count": 1,
   "source": [
    "from time import perf_counter\n",
    "import sys, os\n",
    "sys.path.insert(0, os.path.abspath('..'))\n",
    "import warnings\n",
    "warnings.filterwarnings('ignore')\n",
    "\n",
    "from preprocess import prepare_dataset\n",
    "from validation.models import RidgeCV, LassoCV, KnnCV, SvrCV, RandomForestCV, ExtraTreeCV\n",
    "from validation import set_baseline, get_best_models, plot_train_val, find_winner\n",
    "\n",
    "X_train, X_val, y_train, y_val = prepare_dataset(kind='cv')"
   ],
   "outputs": [],
   "metadata": {}
  },
  {
   "cell_type": "code",
   "execution_count": 2,
   "source": [
    "baseline = set_baseline(X_train, X_val, y_train, y_val)"
   ],
   "outputs": [
    {
     "output_type": "stream",
     "name": "stdout",
     "text": [
      "Baseline loss: 2159445.526444445\n",
      "Baseline score: 0.4124612701450111\n"
     ]
    }
   ],
   "metadata": {}
  },
  {
   "cell_type": "code",
   "execution_count": 4,
   "source": [
    "from validation.models import RidgeCV, LassoCV, KnnCV, SvrCV, RandomForestCV, ExtraTreeCV\n",
    "models = [RidgeCV, LassoCV, KnnCV, SvrCV, RandomForestCV, ExtraTreeCV]\n",
    "results = get_best_models(models, X_train, X_val, y_train, y_val)"
   ],
   "outputs": [
    {
     "output_type": "stream",
     "name": "stdout",
     "text": [
      "Start training Ridge with {'alpha': 0.1}\n",
      "Start training Ridge with {'alpha': 0.5}\n",
      "Start training Ridge with {'alpha': 1.0}\n",
      "Start training Ridge with {'alpha': 10.0}\n",
      "Start training Ridge with {'alpha': 20.0}\n",
      "Start training Lasso with {'alpha': 0.1}\n",
      "Start training Lasso with {'alpha': 0.5}\n",
      "Start training Lasso with {'alpha': 1.0}\n",
      "Start training Lasso with {'alpha': 10.0}\n",
      "Start training Lasso with {'alpha': 20.0}\n",
      "Start training KNN with {'n_neighbors': 5}\n",
      "Start training KNN with {'n_neighbors': 6}\n",
      "Start training KNN with {'n_neighbors': 7}\n",
      "Start training KNN with {'n_neighbors': 8}\n",
      "Start training KNN with {'n_neighbors': 9}\n",
      "Start training KNN with {'n_neighbors': 10}\n",
      "Start training SVR with {'gamma': 0.001, 'C': 0.001}\n",
      "Start training SVR with {'gamma': 0.001, 'C': 0.01}\n",
      "Start training SVR with {'gamma': 0.001, 'C': 0.1}\n",
      "Start training SVR with {'gamma': 0.001, 'C': 1.0}\n",
      "Start training SVR with {'gamma': 0.001, 'C': 10.0}\n",
      "Start training SVR with {'gamma': 0.001, 'C': 100.0}\n",
      "Start training SVR with {'gamma': 0.01, 'C': 0.001}\n",
      "Start training SVR with {'gamma': 0.01, 'C': 0.01}\n",
      "Start training SVR with {'gamma': 0.01, 'C': 0.1}\n",
      "Start training SVR with {'gamma': 0.01, 'C': 1.0}\n",
      "Start training SVR with {'gamma': 0.01, 'C': 10.0}\n",
      "Start training SVR with {'gamma': 0.01, 'C': 100.0}\n",
      "Start training SVR with {'gamma': 0.1, 'C': 0.001}\n",
      "Start training SVR with {'gamma': 0.1, 'C': 0.01}\n",
      "Start training SVR with {'gamma': 0.1, 'C': 0.1}\n",
      "Start training SVR with {'gamma': 0.1, 'C': 1.0}\n",
      "Start training SVR with {'gamma': 0.1, 'C': 10.0}\n",
      "Start training SVR with {'gamma': 0.1, 'C': 100.0}\n",
      "Start training SVR with {'gamma': 1.0, 'C': 0.001}\n",
      "Start training SVR with {'gamma': 1.0, 'C': 0.01}\n",
      "Start training SVR with {'gamma': 1.0, 'C': 0.1}\n",
      "Start training SVR with {'gamma': 1.0, 'C': 1.0}\n",
      "Start training SVR with {'gamma': 1.0, 'C': 10.0}\n",
      "Start training SVR with {'gamma': 1.0, 'C': 100.0}\n",
      "Start training SVR with {'gamma': 10.0, 'C': 0.001}\n",
      "Start training SVR with {'gamma': 10.0, 'C': 0.01}\n",
      "Start training SVR with {'gamma': 10.0, 'C': 0.1}\n",
      "Start training SVR with {'gamma': 10.0, 'C': 1.0}\n",
      "Start training SVR with {'gamma': 10.0, 'C': 10.0}\n",
      "Start training SVR with {'gamma': 10.0, 'C': 100.0}\n",
      "Start training SVR with {'gamma': 100.0, 'C': 0.001}\n",
      "Start training SVR with {'gamma': 100.0, 'C': 0.01}\n",
      "Start training SVR with {'gamma': 100.0, 'C': 0.1}\n",
      "Start training SVR with {'gamma': 100.0, 'C': 1.0}\n",
      "Start training SVR with {'gamma': 100.0, 'C': 10.0}\n",
      "Start training SVR with {'gamma': 100.0, 'C': 100.0}\n",
      "Start training Random Forest with {'n_estimators': 10, 'max_depth': 10}\n",
      "Start training Random Forest with {'n_estimators': 10, 'max_depth': 20}\n",
      "Start training Random Forest with {'n_estimators': 10, 'max_depth': 30}\n",
      "Start training Random Forest with {'n_estimators': 20, 'max_depth': 10}\n",
      "Start training Random Forest with {'n_estimators': 20, 'max_depth': 20}\n",
      "Start training Random Forest with {'n_estimators': 20, 'max_depth': 30}\n",
      "Start training Random Forest with {'n_estimators': 30, 'max_depth': 10}\n",
      "Start training Random Forest with {'n_estimators': 30, 'max_depth': 20}\n",
      "Start training Random Forest with {'n_estimators': 30, 'max_depth': 30}\n",
      "Start training Extra Tree with {'n_estimators': 10}\n",
      "Start training Extra Tree with {'n_estimators': 50}\n",
      "Start training Extra Tree with {'n_estimators': 100}\n",
      "Start training Extra Tree with {'n_estimators': 500}\n",
      "Start training Extra Tree with {'n_estimators': 1000}\n",
      "Start training Extra Tree with {'n_estimators': 5000}\n"
     ]
    }
   ],
   "metadata": {}
  },
  {
   "cell_type": "code",
   "execution_count": 6,
   "source": [
    "plot_train_val(results, type='loss', label='Loss(MSE)')"
   ],
   "outputs": [
    {
     "output_type": "display_data",
     "data": {
      "text/plain": [
       "<Figure size 432x288 with 1 Axes>"
      ],
      "image/png": "[encoded data removed]"
     },
     "metadata": {
      "needs_background": "light"
     }
    }
   ],
   "metadata": {}
  },
  {
   "cell_type": "code",
   "execution_count": 7,
   "source": [
    "winner_model = sorted(results, key=lambda x: x['val_score'], reverse=True)[0]['best_model']\n",
    "\n",
    "X_train, X_test, y_train, y_test = prepare_dataset(kind='train')\n",
    "winner_model.fit(X_train, y_train)\n",
    "print(winner_model.score(X_test, y_test))"
   ],
   "outputs": [
    {
     "output_type": "stream",
     "name": "stdout",
     "text": [
      "0.7139621513820125\n"
     ]
    }
   ],
   "metadata": {}
  },
  {
   "cell_type": "code",
   "execution_count": 17,
   "source": [
    "import numpy as np\n",
    "float_formatter = \"{:.10f}\".format\n",
    "np.set_printoptions(formatter={'float_kind':float_formatter})\n",
    "\n",
    "sorted(zip(X_train.columns, winner_model.feature_importances_), key=lambda x: x[1], reverse=True)[:5]"
   ],
   "outputs": [
    {
     "output_type": "execute_result",
     "data": {
      "text/plain": [
       "[('Developer_mean_enc', 0.566206206321228),\n",
       " ('Publisher_mean_enc', 0.09931646489614794),\n",
       " ('Year', 0.06255076444931491),\n",
       " ('Rating', 0.04825950680098244),\n",
       " ('Month', 0.04562643958928959)]"
      ]
     },
     "metadata": {},
     "execution_count": 17
    }
   ],
   "metadata": {}
  }
 ],
 "metadata": {
  "orig_nbformat": 4,
  "language_info": {
   "name": "python",
   "version": "3.9.1",
   "mimetype": "text/x-python",
   "codemirror_mode": {
    "name": "ipython",
    "version": 3
   },
   "pygments_lexer": "ipython3",
   "nbconvert_exporter": "python",
   "file_extension": ".py"
  },
  "kernelspec": {
   "name": "python3",
   "display_name": "Python 3.9.1 64-bit ('base': conda)"
  },
  "interpreter": {
   "hash": "8ef4e8786d438b06bc68a3ef7740fb70b28ec89378dbf9e0c58c4712274c6905"
  }
 },
 "nbformat": 4,
 "nbformat_minor": 2
}